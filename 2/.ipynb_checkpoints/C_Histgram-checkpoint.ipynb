{
 "cells": [
  {
   "cell_type": "code",
   "execution_count": 20,
   "metadata": {
    "collapsed": true
   },
   "outputs": [],
   "source": [
    "%matplotlib inline\n",
    "import matplotlib.pyplot as plt\n",
    "import numpy as np\n",
    "import numpy.random as rd"
   ]
  },
  {
   "cell_type": "code",
   "execution_count": 21,
   "metadata": {},
   "outputs": [
    {
     "data": {
      "text/plain": [
       "<matplotlib.text.Text at 0x207706309e8>"
      ]
     },
     "execution_count": 21,
     "metadata": {},
     "output_type": "execute_result"
    },
    {
     "data": {
      "image/png": "[encoded data removed]",
      "text/plain": [
       "<matplotlib.figure.Figure at 0x207704aa6a0>"
      ]
     },
     "metadata": {},
     "output_type": "display_data"
    }
   ],
   "source": [
    "fig1 = plt.figure(figsize=(15,5))\n",
    "ax = fig1.add_subplot(1,4,1)\n",
    "x=rd.randint(1,7,10)\n",
    "plt.hist(x,range=(0.5,6.5),bins=6)\n",
    "plt.xlabel('Number', fontsize=14, color='k') \n",
    "plt.ylabel('Frequency', fontsize=14, color='k')\n",
    "plt.title('N=10',fontsize=14,color='k')\n",
    "\n",
    "ax1 = fig1.add_subplot(1,4,2)\n",
    "x=rd.randint(1,7,100)\n",
    "plt.hist(x,range=(0.5,6.5),bins=6)\n",
    "plt.xlabel('Number', fontsize=14, color='k') \n",
    "plt.title('N=100',fontsize=14,color='k')\n",
    "\n",
    "ax2 = fig1.add_subplot(1,4,3)\n",
    "x=rd.randint(1,7,1000)\n",
    "plt.hist(x,range=(0.5,6.5),bins=6)\n",
    "plt.xlabel('Number', fontsize=14, color='k') \n",
    "plt.title('N=1000',fontsize=14,color='k')\n",
    "\n",
    "ax3 = fig1.add_subplot(1,4,4)\n",
    "x=rd.randint(1,7,10000)\n",
    "plt.hist(x,range=(0.5,6.5),bins=6)\n",
    "plt.xlabel('Number', fontsize=14, color='k') \n",
    "plt.title('N=10000',fontsize=14,color='k')"
   ]
  },
  {
   "cell_type": "code",
   "execution_count": null,
   "metadata": {},
   "outputs": [],
   "source": []
  },
  {
   "cell_type": "code",
   "execution_count": null,
   "metadata": {
    "collapsed": true
   },
   "outputs": [],
   "source": []
  }
 ],
 "metadata": {
  "kernelspec": {
   "display_name": "Python 3",
   "language": "python",
   "name": "python3"
  },
  "language_info": {
   "codemirror_mode": {
    "name": "ipython",
    "version": 3
   },
   "file_extension": ".py",
   "mimetype": "text/x-python",
   "name": "python",
   "nbconvert_exporter": "python",
   "pygments_lexer": "ipython3",
   "version": "3.6.1"
  }
 },
 "nbformat": 4,
 "nbformat_minor": 2
}
